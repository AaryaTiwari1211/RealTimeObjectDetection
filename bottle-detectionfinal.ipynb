{
 "cells": [
  {
   "cell_type": "code",
   "execution_count": 1,
   "id": "c21aaed8-7e90-4b26-bd71-adf1620264ae",
   "metadata": {},
   "outputs": [
    {
     "name": "stdout",
     "output_type": "stream",
     "text": [
      "Requirement already satisfied: roboflow in d:\\github\\realtimeobjectdetection\\env\\lib\\site-packages (1.1.26)\n",
      "Requirement already satisfied: opencv-python-headless==4.8.0.74 in d:\\github\\realtimeobjectdetection\\env\\lib\\site-packages (from roboflow) (4.8.0.74)\n",
      "Requirement already satisfied: six in d:\\github\\realtimeobjectdetection\\env\\lib\\site-packages (from roboflow) (1.16.0)\n",
      "Requirement already satisfied: PyYAML>=5.3.1 in d:\\github\\realtimeobjectdetection\\env\\lib\\site-packages (from roboflow) (6.0.1)\n",
      "Requirement already satisfied: idna==2.10 in d:\\github\\realtimeobjectdetection\\env\\lib\\site-packages (from roboflow) (2.10)\n",
      "Requirement already satisfied: matplotlib in d:\\github\\realtimeobjectdetection\\env\\lib\\site-packages (from roboflow) (3.8.3)\n",
      "Requirement already satisfied: urllib3>=1.26.6 in d:\\github\\realtimeobjectdetection\\env\\lib\\site-packages (from roboflow) (2.2.1)\n",
      "Requirement already satisfied: kiwisolver>=1.3.1 in d:\\github\\realtimeobjectdetection\\env\\lib\\site-packages (from roboflow) (1.4.5)\n",
      "Requirement already satisfied: Pillow>=7.1.2 in d:\\github\\realtimeobjectdetection\\env\\lib\\site-packages (from roboflow) (10.2.0)\n",
      "Requirement already satisfied: python-dotenv in d:\\github\\realtimeobjectdetection\\env\\lib\\site-packages (from roboflow) (1.0.1)\n",
      "Requirement already satisfied: requests in d:\\github\\realtimeobjectdetection\\env\\lib\\site-packages (from roboflow) (2.31.0)\n",
      "Requirement already satisfied: cycler==0.10.0 in d:\\github\\realtimeobjectdetection\\env\\lib\\site-packages (from roboflow) (0.10.0)\n",
      "Requirement already satisfied: python-magic in d:\\github\\realtimeobjectdetection\\env\\lib\\site-packages (from roboflow) (0.4.27)\n",
      "Requirement already satisfied: python-dateutil in d:\\github\\realtimeobjectdetection\\env\\lib\\site-packages (from roboflow) (2.9.0.post0)\n",
      "Requirement already satisfied: requests-toolbelt in d:\\github\\realtimeobjectdetection\\env\\lib\\site-packages (from roboflow) (1.0.0)\n",
      "Requirement already satisfied: tqdm>=4.41.0 in d:\\github\\realtimeobjectdetection\\env\\lib\\site-packages (from roboflow) (4.66.2)\n",
      "Requirement already satisfied: chardet==4.0.0 in d:\\github\\realtimeobjectdetection\\env\\lib\\site-packages (from roboflow) (4.0.0)\n",
      "Requirement already satisfied: certifi==2023.7.22 in d:\\github\\realtimeobjectdetection\\env\\lib\\site-packages (from roboflow) (2023.7.22)\n",
      "Requirement already satisfied: numpy>=1.18.5 in d:\\github\\realtimeobjectdetection\\env\\lib\\site-packages (from roboflow) (1.26.4)\n",
      "Requirement already satisfied: colorama in d:\\github\\realtimeobjectdetection\\env\\lib\\site-packages (from tqdm>=4.41.0->roboflow) (0.4.6)\n",
      "Requirement already satisfied: pyparsing>=2.3.1 in d:\\github\\realtimeobjectdetection\\env\\lib\\site-packages (from matplotlib->roboflow) (3.1.2)\n",
      "Requirement already satisfied: fonttools>=4.22.0 in d:\\github\\realtimeobjectdetection\\env\\lib\\site-packages (from matplotlib->roboflow) (4.49.0)\n",
      "Requirement already satisfied: packaging>=20.0 in d:\\github\\realtimeobjectdetection\\env\\lib\\site-packages (from matplotlib->roboflow) (24.0)\n",
      "Requirement already satisfied: contourpy>=1.0.1 in d:\\github\\realtimeobjectdetection\\env\\lib\\site-packages (from matplotlib->roboflow) (1.2.0)\n",
      "Requirement already satisfied: charset-normalizer<4,>=2 in d:\\github\\realtimeobjectdetection\\env\\lib\\site-packages (from requests->roboflow) (3.3.2)\n"
     ]
    },
    {
     "name": "stderr",
     "output_type": "stream",
     "text": [
      "\n",
      "[notice] A new release of pip available: 22.2.1 -> 24.0\n",
      "[notice] To update, run: python.exe -m pip install --upgrade pip\n"
     ]
    },
    {
     "name": "stdout",
     "output_type": "stream",
     "text": [
      "loading Roboflow workspace...\n",
      "loading Roboflow project...\n"
     ]
    },
    {
     "name": "stderr",
     "output_type": "stream",
     "text": [
      "Downloading Dataset Version Zip in bottle-detection-1 to tfrecord:: 100%|█| 17224/17224 [00:07<00:00, 2162.3"
     ]
    },
    {
     "name": "stdout",
     "output_type": "stream",
     "text": [
      "\n"
     ]
    },
    {
     "name": "stderr",
     "output_type": "stream",
     "text": [
      "\n",
      "Extracting Dataset Version Zip to bottle-detection-1 in tfrecord:: 100%|███| 11/11 [00:00<00:00, 279.39it/s]\n"
     ]
    }
   ],
   "source": [
    "!pip install roboflow\n",
    "\n",
    "from roboflow import Roboflow\n",
    "rf = Roboflow(api_key=\"rZ10TawFvKlumyndvqjo\")\n",
    "project = rf.workspace(\"aarya-ksflp\").project(\"bottle-detection-tztdn\")\n",
    "version = project.version(1)\n",
    "dataset = version.download(\"tfrecord\")"
   ]
  },
  {
   "cell_type": "code",
   "execution_count": 2,
   "id": "f9f7a354-a251-4689-84de-15117d334c5e",
   "metadata": {},
   "outputs": [
    {
     "data": {
      "text/plain": [
       "<roboflow.core.dataset.Dataset at 0x141e3a06230>"
      ]
     },
     "execution_count": 2,
     "metadata": {},
     "output_type": "execute_result"
    }
   ],
   "source": [
    "dataset"
   ]
  },
  {
   "cell_type": "code",
   "execution_count": 3,
   "id": "8369c30b-d48e-48cb-8b8c-cfad55cdc3c1",
   "metadata": {},
   "outputs": [
    {
     "data": {
      "text/plain": [
       "<roboflow.core.version.Version at 0x141e3a074f0>"
      ]
     },
     "execution_count": 3,
     "metadata": {},
     "output_type": "execute_result"
    }
   ],
   "source": [
    "version"
   ]
  },
  {
   "cell_type": "code",
   "execution_count": null,
   "id": "477efed6-06a7-4e08-8c38-204229447d41",
   "metadata": {},
   "outputs": [],
   "source": []
  }
 ],
 "metadata": {
  "kernelspec": {
   "display_name": "Python 3 (ipykernel)",
   "language": "python",
   "name": "python3"
  },
  "language_info": {
   "codemirror_mode": {
    "name": "ipython",
    "version": 3
   },
   "file_extension": ".py",
   "mimetype": "text/x-python",
   "name": "python",
   "nbconvert_exporter": "python",
   "pygments_lexer": "ipython3",
   "version": "3.10.6"
  }
 },
 "nbformat": 4,
 "nbformat_minor": 5
}
