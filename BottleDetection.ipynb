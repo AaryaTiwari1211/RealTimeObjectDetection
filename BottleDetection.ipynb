{
 "cells": [
  {
   "cell_type": "code",
   "execution_count": 1,
   "id": "9bba0d4e",
   "metadata": {},
   "outputs": [],
   "source": [
    "import os\n",
    "import time \n",
    "import uuid\n",
    "import cv2 as cv"
   ]
  },
  {
   "cell_type": "code",
   "execution_count": 2,
   "id": "d14a04b6",
   "metadata": {},
   "outputs": [],
   "source": [
    "labels = ['noCap','crushed','noLabel','noDefect']"
   ]
  },
  {
   "cell_type": "code",
   "execution_count": 3,
   "id": "290333cf",
   "metadata": {},
   "outputs": [],
   "source": [
    "WORKSPACE_PATH = 'Tensorflow/workspace'\n",
    "SCRIPTS_PATH = 'Tensorflow/scripts'\n",
    "APIMODEL_PATH = 'Tensorflow/models'\n",
    "ANNOTATION_PATH = WORKSPACE_PATH+'/annotations'\n",
    "IMAGE_PATH = WORKSPACE_PATH+'/images'\n",
    "MODEL_PATH = WORKSPACE_PATH+'/models'\n",
    "PRETRAINED_MODEL_PATH = WORKSPACE_PATH+'/pre-trained-models'\n",
    "CONFIG_PATH = MODEL_PATH+'/my_ssd_mobnet/pipeline.config'\n",
    "CHECKPOINT_PATH = MODEL_PATH+'/my_ssd_mobnet/'"
   ]
  },
  {
   "cell_type": "code",
   "execution_count": 4,
   "id": "8ee0060c",
   "metadata": {},
   "outputs": [],
   "source": [
    "labels = [\n",
    "            {'name':'noDefect', 'id':1}, \n",
    "            {'name':'noCap', 'id':2},\n",
    "            {'name':'noLabel', 'id':3},\n",
    "            {'name':'crushed', 'id':4},\n",
    "         ]\n",
    "\n",
    "with open(ANNOTATION_PATH + '\\label_map.pbtxt', 'w') as f:\n",
    "    for label in labels:\n",
    "        f.write('item { \\n')\n",
    "        f.write('\\tname:\\'{}\\'\\n'.format(label['name']))\n",
    "        f.write('\\tid:{}\\n'.format(label['id']))\n",
    "        f.write('}\\n')"
   ]
  },
  {
   "cell_type": "code",
   "execution_count": 5,
   "id": "402816f0",
   "metadata": {},
   "outputs": [
    {
     "name": "stderr",
     "output_type": "stream",
     "text": [
      "C:\\Users\\Aarya\\lib\\site-packages\\scipy\\__init__.py:169: UserWarning: A NumPy version >=1.18.5 and <1.26.0 is required for this version of SciPy (detected version 1.26.4\n",
      "  warnings.warn(f\"A NumPy version >={np_minversion} and <{np_maxversion}\"\n",
      "WARNING:tensorflow:From D:\\Github\\RealTimeObjectDetection\\Tensorflow\\scripts\\generate_tfrecord.py:168: The name tf.app.run is deprecated. Please use tf.compat.v1.app.run instead.\n",
      "\n",
      "WARNING:tensorflow:From D:\\Github\\RealTimeObjectDetection\\Tensorflow\\scripts\\generate_tfrecord.py:153: The name tf.python_io.TFRecordWriter is deprecated. Please use tf.io.TFRecordWriter instead.\n",
      "\n",
      "W0313 09:35:17.043496 27092 module_wrapper.py:149] From D:\\Github\\RealTimeObjectDetection\\Tensorflow\\scripts\\generate_tfrecord.py:153: The name tf.python_io.TFRecordWriter is deprecated. Please use tf.io.TFRecordWriter instead.\n",
      "\n",
      "Traceback (most recent call last):\n",
      "  File \"D:\\Github\\RealTimeObjectDetection\\Tensorflow\\scripts\\generate_tfrecord.py\", line 168, in <module>\n",
      "    tf.app.run()\n",
      "  File \"C:\\Users\\Aarya\\lib\\site-packages\\tensorflow\\python\\platform\\app.py\", line 36, in run\n",
      "    _run(main=main, argv=argv, flags_parser=_parse_flags_tolerate_undef)\n",
      "  File \"C:\\Users\\Aarya\\lib\\site-packages\\absl\\app.py\", line 308, in run\n",
      "    _run_main(main, args)\n",
      "  File \"C:\\Users\\Aarya\\lib\\site-packages\\absl\\app.py\", line 254, in _run_main\n",
      "    sys.exit(main(argv))\n",
      "  File \"D:\\Github\\RealTimeObjectDetection\\Tensorflow\\scripts\\generate_tfrecord.py\", line 155, in main\n",
      "    examples = xml_to_csv(args.xml_dir)\n",
      "  File \"D:\\Github\\RealTimeObjectDetection\\Tensorflow\\scripts\\generate_tfrecord.py\", line 88, in xml_to_csv\n",
      "    int(member[4][0].text),\n",
      "ValueError: invalid literal for int() with base 10: '892.09'\n",
      "C:\\Users\\Aarya\\lib\\site-packages\\scipy\\__init__.py:169: UserWarning: A NumPy version >=1.18.5 and <1.26.0 is required for this version of SciPy (detected version 1.26.4\n",
      "  warnings.warn(f\"A NumPy version >={np_minversion} and <{np_maxversion}\"\n",
      "WARNING:tensorflow:From D:\\Github\\RealTimeObjectDetection\\Tensorflow\\scripts\\generate_tfrecord.py:168: The name tf.app.run is deprecated. Please use tf.compat.v1.app.run instead.\n",
      "\n",
      "WARNING:tensorflow:From D:\\Github\\RealTimeObjectDetection\\Tensorflow\\scripts\\generate_tfrecord.py:153: The name tf.python_io.TFRecordWriter is deprecated. Please use tf.io.TFRecordWriter instead.\n",
      "\n",
      "W0313 09:35:21.222871 24952 module_wrapper.py:149] From D:\\Github\\RealTimeObjectDetection\\Tensorflow\\scripts\\generate_tfrecord.py:153: The name tf.python_io.TFRecordWriter is deprecated. Please use tf.io.TFRecordWriter instead.\n",
      "\n",
      "Traceback (most recent call last):\n",
      "  File \"D:\\Github\\RealTimeObjectDetection\\Tensorflow\\scripts\\generate_tfrecord.py\", line 168, in <module>\n",
      "    tf.app.run()\n",
      "  File \"C:\\Users\\Aarya\\lib\\site-packages\\tensorflow\\python\\platform\\app.py\", line 36, in run\n",
      "    _run(main=main, argv=argv, flags_parser=_parse_flags_tolerate_undef)\n",
      "  File \"C:\\Users\\Aarya\\lib\\site-packages\\absl\\app.py\", line 308, in run\n",
      "    _run_main(main, args)\n",
      "  File \"C:\\Users\\Aarya\\lib\\site-packages\\absl\\app.py\", line 254, in _run_main\n",
      "    sys.exit(main(argv))\n",
      "  File \"D:\\Github\\RealTimeObjectDetection\\Tensorflow\\scripts\\generate_tfrecord.py\", line 155, in main\n",
      "    examples = xml_to_csv(args.xml_dir)\n",
      "  File \"D:\\Github\\RealTimeObjectDetection\\Tensorflow\\scripts\\generate_tfrecord.py\", line 88, in xml_to_csv\n",
      "    int(member[4][0].text),\n",
      "ValueError: invalid literal for int() with base 10: '559.88'\n"
     ]
    }
   ],
   "source": []
  },
  {
   "cell_type": "code",
   "execution_count": null,
   "id": "156da0af",
   "metadata": {},
   "outputs": [],
   "source": []
  }
 ],
 "metadata": {
  "kernelspec": {
   "display_name": "Python 3 (ipykernel)",
   "language": "python",
   "name": "python3"
  },
  "language_info": {
   "codemirror_mode": {
    "name": "ipython",
    "version": 3
   },
   "file_extension": ".py",
   "mimetype": "text/x-python",
   "name": "python",
   "nbconvert_exporter": "python",
   "pygments_lexer": "ipython3",
   "version": "3.10.6"
  }
 },
 "nbformat": 4,
 "nbformat_minor": 5
}
